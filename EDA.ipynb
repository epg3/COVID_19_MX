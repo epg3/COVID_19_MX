{
 "cells": [
  {
   "cell_type": "markdown",
   "metadata": {},
   "source": [
    "# COVID-19 in Mexico\n",
    "\n"
   ]
  },
  {
   "cell_type": "markdown",
   "metadata": {},
   "source": [
    "## Define the problem\n",
    "COVID-19 is taking a big toll on the Mexican population. Currently having the 6th place worldwide. I decided to dive in and understand better the current situation in there.\n",
    "\n",
    "The main question is: \n",
    "* Which factor has the biggest impact on predicting death once infected with COVID-19?\n",
    "\n",
    "Other questions to tackle are:\n",
    "* Is there a correlation between cases and death with days of the week?\n",
    "* Does the probability of death is increased by the number of days between first symptoms and hospitalization?"
   ]
  },
  {
   "cell_type": "code",
   "execution_count": 1,
   "metadata": {},
   "outputs": [
    {
     "ename": "SyntaxError",
     "evalue": "invalid syntax (<ipython-input-1-165caa93f799>, line 1)",
     "output_type": "error",
     "traceback": [
      "\u001b[0;36m  File \u001b[0;32m\"<ipython-input-1-165caa93f799>\"\u001b[0;36m, line \u001b[0;32m1\u001b[0m\n\u001b[0;31m    * % de pruebas por entidad federativa\u001b[0m\n\u001b[0m      ^\u001b[0m\n\u001b[0;31mSyntaxError\u001b[0m\u001b[0;31m:\u001b[0m invalid syntax\n"
     ]
    }
   ],
   "source": [
    "* % de pruebas por entidad federativa\n",
    "* cuantos dias en promedio a morir desde sintomas a la muerte.\n",
    "* cuantos dias entre sintomas e ingreso a hospital\n",
    "* que factor tiene mayor impacto en COVID\n",
    "* % de la poblacion por x edad y x sexo\n",
    "* day of the week with more cases\n",
    "* day of the week with more deaths\n",
    "* to a 100 inhabitants"
   ]
  },
  {
   "cell_type": "code",
   "execution_count": 2,
   "metadata": {},
   "outputs": [],
   "source": [
    "__author__ = \"Erika Garces\"\n",
    "__email__ = \"epgarces3@gmail.com\""
   ]
  },
  {
   "cell_type": "code",
   "execution_count": 3,
   "metadata": {},
   "outputs": [],
   "source": [
    "# impory libraries \n",
    "import numpy as np\n",
    "import pandas as pd\n",
    "import matplotlib.pyplot as plt\n",
    "import seaborn as sns\n",
    "from os import listdir\n",
    "import geopandas as gpd\n",
    "import datetime as dt\n",
    "from datetime import date\n",
    "\n",
    "import plotly\n",
    "import plotly.offline as py\n",
    "import plotly.graph_objs as go\n",
    "import plotly.express as px\n",
    "from plotly.tools import FigureFactory as ff\n",
    "import pandas as pd\n",
    "\n",
    "sns.set()\n",
    "%matplotlib inline"
   ]
  },
  {
   "cell_type": "markdown",
   "metadata": {},
   "source": [
    "## About datasets\n",
    "\n",
    "COVID-19 data was taken from Ministry of Health MX:  https://www.gob.mx/salud/documentos/datos-abiertos-152127\n",
    "\n",
    "Mexico's Shape File was taken from ESRI: https://www.arcgis.com/home/item.html?id=ac9041c51b5c49c683fbfec61dc03ba8\n",
    "\n",
    "Population data was taken from INEGI: https://www.inegi.org.mx/temas/estructura/"
   ]
  },
  {
   "cell_type": "markdown",
   "metadata": {},
   "source": [
    "## Load the Data "
   ]
  },
  {
   "cell_type": "code",
   "execution_count": 4,
   "metadata": {},
   "outputs": [],
   "source": [
    "# Function to print all the files in a folder \n",
    "def file_folder (path):\n",
    "    filepaths = [path + f for f in listdir(path)]\n",
    "    print (filepaths)"
   ]
  },
  {
   "cell_type": "code",
   "execution_count": 5,
   "metadata": {},
   "outputs": [
    {
     "name": "stdout",
     "output_type": "stream",
     "text": [
      "['Data/.DS_Store', 'Data/mexstates.dbf', 'Data/Catalogos_0412.xlsx', 'Data/mexstates.shp', 'Data/Poblacion_01.xlsx', 'Data/mexstates.shx', 'Data/mexstates.sbx', 'Data/.keep', 'Data/Poblacion_age.xlsx', 'Data/200721COVID19MEXICO.csv', 'Data/mexstates.prj', 'Data/mexstates.sbn', 'Data/mexstates.shp.xml', 'Data/Descriptores_0419.xlsx']\n"
     ]
    }
   ],
   "source": [
    "path = \"Data/\"\n",
    "covid_general = file_folder(path)"
   ]
  },
  {
   "cell_type": "code",
   "execution_count": 6,
   "metadata": {},
   "outputs": [],
   "source": [
    "# Loading shape file\n",
    "geo_states = gpd.read_file(path + \"mexstates.shp\")"
   ]
  },
  {
   "cell_type": "code",
   "execution_count": 7,
   "metadata": {},
   "outputs": [],
   "source": [
    "# Loading covid-19 file \n",
    "df_genera_mx = pd.read_csv(path +\"200721COVID19MEXICO.csv\", encoding='latin-1')\n",
    "df_general = df_genera_mx"
   ]
  },
  {
   "cell_type": "markdown",
   "metadata": {},
   "source": [
    "COVID-19 file uses descriptors. The descriptors are analyzed below. "
   ]
  },
  {
   "cell_type": "code",
   "execution_count": 8,
   "metadata": {},
   "outputs": [
    {
     "data": {
      "text/html": [
       "<div>\n",
       "<style scoped>\n",
       "    .dataframe tbody tr th:only-of-type {\n",
       "        vertical-align: middle;\n",
       "    }\n",
       "\n",
       "    .dataframe tbody tr th {\n",
       "        vertical-align: top;\n",
       "    }\n",
       "\n",
       "    .dataframe thead th {\n",
       "        text-align: right;\n",
       "    }\n",
       "</style>\n",
       "<table border=\"1\" class=\"dataframe\">\n",
       "  <thead>\n",
       "    <tr style=\"text-align: right;\">\n",
       "      <th></th>\n",
       "      <th>Nº</th>\n",
       "      <th>NOMBRE DE VARIABLE</th>\n",
       "      <th>DESCRIPCIÓN DE VARIABLE</th>\n",
       "      <th>FORMATO O FUENTE</th>\n",
       "    </tr>\n",
       "  </thead>\n",
       "  <tbody>\n",
       "    <tr>\n",
       "      <th>0</th>\n",
       "      <td>1</td>\n",
       "      <td>FECHA_ACTUALIZACION</td>\n",
       "      <td>La base de datos se alimenta diariamente, esta...</td>\n",
       "      <td>AAAA-MM-DD</td>\n",
       "    </tr>\n",
       "    <tr>\n",
       "      <th>1</th>\n",
       "      <td>2</td>\n",
       "      <td>ID_REGISTRO</td>\n",
       "      <td>Número identificador del caso</td>\n",
       "      <td>TEXTO</td>\n",
       "    </tr>\n",
       "    <tr>\n",
       "      <th>2</th>\n",
       "      <td>3</td>\n",
       "      <td>ORIGEN</td>\n",
       "      <td>La vigilancia centinela se realiza a través de...</td>\n",
       "      <td>CATÁLOGO: ORIGEN                              ...</td>\n",
       "    </tr>\n",
       "    <tr>\n",
       "      <th>3</th>\n",
       "      <td>4</td>\n",
       "      <td>SECTOR</td>\n",
       "      <td>Identifica el tipo de institución del Sistema ...</td>\n",
       "      <td>CATÁLOGO: SECTOR                              ...</td>\n",
       "    </tr>\n",
       "    <tr>\n",
       "      <th>4</th>\n",
       "      <td>5</td>\n",
       "      <td>ENTIDAD_UM</td>\n",
       "      <td>Identifica la entidad donde se ubica la unidad...</td>\n",
       "      <td>CATALÓGO: ENTIDADES</td>\n",
       "    </tr>\n",
       "  </tbody>\n",
       "</table>\n",
       "</div>"
      ],
      "text/plain": [
       "   Nº   NOMBRE DE VARIABLE                            DESCRIPCIÓN DE VARIABLE  \\\n",
       "0   1  FECHA_ACTUALIZACION  La base de datos se alimenta diariamente, esta...   \n",
       "1   2          ID_REGISTRO                      Número identificador del caso   \n",
       "2   3               ORIGEN  La vigilancia centinela se realiza a través de...   \n",
       "3   4               SECTOR  Identifica el tipo de institución del Sistema ...   \n",
       "4   5           ENTIDAD_UM  Identifica la entidad donde se ubica la unidad...   \n",
       "\n",
       "                                    FORMATO O FUENTE  \n",
       "0                                         AAAA-MM-DD  \n",
       "1                                             TEXTO   \n",
       "2  CATÁLOGO: ORIGEN                              ...  \n",
       "3  CATÁLOGO: SECTOR                              ...  \n",
       "4                                CATALÓGO: ENTIDADES  "
      ]
     },
     "execution_count": 8,
     "metadata": {},
     "output_type": "execute_result"
    }
   ],
   "source": [
    "df_descriptors = pd.read_excel(open(path + 'Descriptores_0419.xlsx', 'rb')) \n",
    "df_descriptors.head()"
   ]
  },
  {
   "cell_type": "code",
   "execution_count": 9,
   "metadata": {},
   "outputs": [
    {
     "data": {
      "text/html": [
       "<div>\n",
       "<style scoped>\n",
       "    .dataframe tbody tr th:only-of-type {\n",
       "        vertical-align: middle;\n",
       "    }\n",
       "\n",
       "    .dataframe tbody tr th {\n",
       "        vertical-align: top;\n",
       "    }\n",
       "\n",
       "    .dataframe thead th {\n",
       "        text-align: right;\n",
       "    }\n",
       "</style>\n",
       "<table border=\"1\" class=\"dataframe\">\n",
       "  <thead>\n",
       "    <tr style=\"text-align: right;\">\n",
       "      <th></th>\n",
       "      <th>CLAVE_ENTIDAD</th>\n",
       "      <th>ENTIDAD_FEDERATIVA</th>\n",
       "      <th>ABREVIATURA</th>\n",
       "    </tr>\n",
       "  </thead>\n",
       "  <tbody>\n",
       "    <tr>\n",
       "      <th>0</th>\n",
       "      <td>1</td>\n",
       "      <td>AGUASCALIENTES</td>\n",
       "      <td>AS</td>\n",
       "    </tr>\n",
       "    <tr>\n",
       "      <th>1</th>\n",
       "      <td>2</td>\n",
       "      <td>BAJA CALIFORNIA</td>\n",
       "      <td>BC</td>\n",
       "    </tr>\n",
       "    <tr>\n",
       "      <th>2</th>\n",
       "      <td>3</td>\n",
       "      <td>BAJA CALIFORNIA SUR</td>\n",
       "      <td>BS</td>\n",
       "    </tr>\n",
       "    <tr>\n",
       "      <th>3</th>\n",
       "      <td>4</td>\n",
       "      <td>CAMPECHE</td>\n",
       "      <td>CC</td>\n",
       "    </tr>\n",
       "    <tr>\n",
       "      <th>4</th>\n",
       "      <td>5</td>\n",
       "      <td>COAHUILA DE ZARAGOZA</td>\n",
       "      <td>CL</td>\n",
       "    </tr>\n",
       "  </tbody>\n",
       "</table>\n",
       "</div>"
      ],
      "text/plain": [
       "   CLAVE_ENTIDAD    ENTIDAD_FEDERATIVA ABREVIATURA\n",
       "0              1        AGUASCALIENTES          AS\n",
       "1              2       BAJA CALIFORNIA          BC\n",
       "2              3   BAJA CALIFORNIA SUR          BS\n",
       "3              4              CAMPECHE          CC\n",
       "4              5  COAHUILA DE ZARAGOZA          CL"
      ]
     },
     "execution_count": 9,
     "metadata": {},
     "output_type": "execute_result"
    }
   ],
   "source": [
    "df_states = pd.read_excel(open(path + 'Catalogos_0412.xlsx', 'rb'), sheet_name='Catálogo de ENTIDADES') \n",
    "df_states.head()"
   ]
  },
  {
   "cell_type": "code",
   "execution_count": 10,
   "metadata": {},
   "outputs": [
    {
     "data": {
      "text/html": [
       "<div>\n",
       "<style scoped>\n",
       "    .dataframe tbody tr th:only-of-type {\n",
       "        vertical-align: middle;\n",
       "    }\n",
       "\n",
       "    .dataframe tbody tr th {\n",
       "        vertical-align: top;\n",
       "    }\n",
       "\n",
       "    .dataframe thead th {\n",
       "        text-align: right;\n",
       "    }\n",
       "</style>\n",
       "<table border=\"1\" class=\"dataframe\">\n",
       "  <thead>\n",
       "    <tr style=\"text-align: right;\">\n",
       "      <th></th>\n",
       "      <th>CLAVE</th>\n",
       "      <th>DESCRIPCIÓN</th>\n",
       "    </tr>\n",
       "  </thead>\n",
       "  <tbody>\n",
       "    <tr>\n",
       "      <th>0</th>\n",
       "      <td>1</td>\n",
       "      <td>CRUZ ROJA</td>\n",
       "    </tr>\n",
       "    <tr>\n",
       "      <th>1</th>\n",
       "      <td>2</td>\n",
       "      <td>DIF</td>\n",
       "    </tr>\n",
       "    <tr>\n",
       "      <th>2</th>\n",
       "      <td>3</td>\n",
       "      <td>ESTATAL</td>\n",
       "    </tr>\n",
       "    <tr>\n",
       "      <th>3</th>\n",
       "      <td>4</td>\n",
       "      <td>IMSS</td>\n",
       "    </tr>\n",
       "    <tr>\n",
       "      <th>4</th>\n",
       "      <td>5</td>\n",
       "      <td>IMSS-BIENESTAR</td>\n",
       "    </tr>\n",
       "  </tbody>\n",
       "</table>\n",
       "</div>"
      ],
      "text/plain": [
       "   CLAVE     DESCRIPCIÓN\n",
       "0      1       CRUZ ROJA\n",
       "1      2             DIF\n",
       "2      3         ESTATAL\n",
       "3      4            IMSS\n",
       "4      5  IMSS-BIENESTAR"
      ]
     },
     "execution_count": 10,
     "metadata": {},
     "output_type": "execute_result"
    }
   ],
   "source": [
    "df_sector = pd.read_excel(open(path + 'Catalogos_0412.xlsx', 'rb'), sheet_name='Catálogo SECTOR') \n",
    "df_sector.head()"
   ]
  },
  {
   "cell_type": "code",
   "execution_count": 11,
   "metadata": {},
   "outputs": [
    {
     "data": {
      "text/html": [
       "<div>\n",
       "<style scoped>\n",
       "    .dataframe tbody tr th:only-of-type {\n",
       "        vertical-align: middle;\n",
       "    }\n",
       "\n",
       "    .dataframe tbody tr th {\n",
       "        vertical-align: top;\n",
       "    }\n",
       "\n",
       "    .dataframe thead th {\n",
       "        text-align: right;\n",
       "    }\n",
       "</style>\n",
       "<table border=\"1\" class=\"dataframe\">\n",
       "  <thead>\n",
       "    <tr style=\"text-align: right;\">\n",
       "      <th></th>\n",
       "      <th>CLAVE</th>\n",
       "      <th>DESCRIPCIÓN</th>\n",
       "    </tr>\n",
       "  </thead>\n",
       "  <tbody>\n",
       "    <tr>\n",
       "      <th>0</th>\n",
       "      <td>1</td>\n",
       "      <td>AMBULATORIO</td>\n",
       "    </tr>\n",
       "    <tr>\n",
       "      <th>1</th>\n",
       "      <td>2</td>\n",
       "      <td>HOSPITALIZADO</td>\n",
       "    </tr>\n",
       "    <tr>\n",
       "      <th>2</th>\n",
       "      <td>99</td>\n",
       "      <td>NO ESPECIFICADO</td>\n",
       "    </tr>\n",
       "  </tbody>\n",
       "</table>\n",
       "</div>"
      ],
      "text/plain": [
       "   CLAVE      DESCRIPCIÓN\n",
       "0      1      AMBULATORIO\n",
       "1      2    HOSPITALIZADO\n",
       "2     99  NO ESPECIFICADO"
      ]
     },
     "execution_count": 11,
     "metadata": {},
     "output_type": "execute_result"
    }
   ],
   "source": [
    "df_paciente = pd.read_excel(open(path + 'Catalogos_0412.xlsx', 'rb'), sheet_name='Catálogo TIPO_PACIENTE') \n",
    "df_paciente"
   ]
  },
  {
   "cell_type": "code",
   "execution_count": 12,
   "metadata": {},
   "outputs": [
    {
     "data": {
      "text/html": [
       "<div>\n",
       "<style scoped>\n",
       "    .dataframe tbody tr th:only-of-type {\n",
       "        vertical-align: middle;\n",
       "    }\n",
       "\n",
       "    .dataframe tbody tr th {\n",
       "        vertical-align: top;\n",
       "    }\n",
       "\n",
       "    .dataframe thead th {\n",
       "        text-align: right;\n",
       "    }\n",
       "</style>\n",
       "<table border=\"1\" class=\"dataframe\">\n",
       "  <thead>\n",
       "    <tr style=\"text-align: right;\">\n",
       "      <th></th>\n",
       "      <th>CLAVE</th>\n",
       "      <th>DESCRIPCIÓN</th>\n",
       "    </tr>\n",
       "  </thead>\n",
       "  <tbody>\n",
       "    <tr>\n",
       "      <th>0</th>\n",
       "      <td>1</td>\n",
       "      <td>MUJER</td>\n",
       "    </tr>\n",
       "    <tr>\n",
       "      <th>1</th>\n",
       "      <td>2</td>\n",
       "      <td>HOMBRE</td>\n",
       "    </tr>\n",
       "    <tr>\n",
       "      <th>2</th>\n",
       "      <td>99</td>\n",
       "      <td>NO ESPECIFICADO</td>\n",
       "    </tr>\n",
       "  </tbody>\n",
       "</table>\n",
       "</div>"
      ],
      "text/plain": [
       "   CLAVE      DESCRIPCIÓN\n",
       "0      1            MUJER\n",
       "1      2           HOMBRE\n",
       "2     99  NO ESPECIFICADO"
      ]
     },
     "execution_count": 12,
     "metadata": {},
     "output_type": "execute_result"
    }
   ],
   "source": [
    "df_gender = pd.read_excel(open(path + 'Catalogos_0412.xlsx', 'rb'), sheet_name='Catálogo SEXO') \n",
    "df_gender"
   ]
  },
  {
   "cell_type": "markdown",
   "metadata": {},
   "source": [
    "## Examine data"
   ]
  },
  {
   "cell_type": "code",
   "execution_count": 13,
   "metadata": {},
   "outputs": [
    {
     "data": {
      "text/plain": [
       "(845272, 35)"
      ]
     },
     "execution_count": 13,
     "metadata": {},
     "output_type": "execute_result"
    }
   ],
   "source": [
    "# checking the size of the file \n",
    "df_general.shape "
   ]
  },
  {
   "cell_type": "code",
   "execution_count": 14,
   "metadata": {},
   "outputs": [
    {
     "name": "stdout",
     "output_type": "stream",
     "text": [
      "<class 'pandas.core.frame.DataFrame'>\n",
      "RangeIndex: 845272 entries, 0 to 845271\n",
      "Data columns (total 35 columns):\n",
      " #   Column               Non-Null Count   Dtype \n",
      "---  ------               --------------   ----- \n",
      " 0   FECHA_ACTUALIZACION  845272 non-null  object\n",
      " 1   ID_REGISTRO          845272 non-null  object\n",
      " 2   ORIGEN               845272 non-null  int64 \n",
      " 3   SECTOR               845272 non-null  int64 \n",
      " 4   ENTIDAD_UM           845272 non-null  int64 \n",
      " 5   SEXO                 845272 non-null  int64 \n",
      " 6   ENTIDAD_NAC          845272 non-null  int64 \n",
      " 7   ENTIDAD_RES          845272 non-null  int64 \n",
      " 8   MUNICIPIO_RES        845272 non-null  int64 \n",
      " 9   TIPO_PACIENTE        845272 non-null  int64 \n",
      " 10  FECHA_INGRESO        845272 non-null  object\n",
      " 11  FECHA_SINTOMAS       845272 non-null  object\n",
      " 12  FECHA_DEF            845272 non-null  object\n",
      " 13  INTUBADO             845272 non-null  int64 \n",
      " 14  NEUMONIA             845272 non-null  int64 \n",
      " 15  EDAD                 845272 non-null  int64 \n",
      " 16  NACIONALIDAD         845272 non-null  int64 \n",
      " 17  EMBARAZO             845272 non-null  int64 \n",
      " 18  HABLA_LENGUA_INDIG   845272 non-null  int64 \n",
      " 19  DIABETES             845272 non-null  int64 \n",
      " 20  EPOC                 845272 non-null  int64 \n",
      " 21  ASMA                 845272 non-null  int64 \n",
      " 22  INMUSUPR             845272 non-null  int64 \n",
      " 23  HIPERTENSION         845272 non-null  int64 \n",
      " 24  OTRA_COM             845272 non-null  int64 \n",
      " 25  CARDIOVASCULAR       845272 non-null  int64 \n",
      " 26  OBESIDAD             845272 non-null  int64 \n",
      " 27  RENAL_CRONICA        845272 non-null  int64 \n",
      " 28  TABAQUISMO           845272 non-null  int64 \n",
      " 29  OTRO_CASO            845272 non-null  int64 \n",
      " 30  RESULTADO            845272 non-null  int64 \n",
      " 31  MIGRANTE             845272 non-null  int64 \n",
      " 32  PAIS_NACIONALIDAD    845272 non-null  object\n",
      " 33  PAIS_ORIGEN          845272 non-null  object\n",
      " 34  UCI                  845272 non-null  int64 \n",
      "dtypes: int64(28), object(7)\n",
      "memory usage: 225.7+ MB\n"
     ]
    }
   ],
   "source": [
    "# checking the data type of the columns\n",
    "df_general.info()"
   ]
  },
  {
   "cell_type": "code",
   "execution_count": 15,
   "metadata": {},
   "outputs": [
    {
     "data": {
      "text/html": [
       "<div>\n",
       "<style scoped>\n",
       "    .dataframe tbody tr th:only-of-type {\n",
       "        vertical-align: middle;\n",
       "    }\n",
       "\n",
       "    .dataframe tbody tr th {\n",
       "        vertical-align: top;\n",
       "    }\n",
       "\n",
       "    .dataframe thead th {\n",
       "        text-align: right;\n",
       "    }\n",
       "</style>\n",
       "<table border=\"1\" class=\"dataframe\">\n",
       "  <thead>\n",
       "    <tr style=\"text-align: right;\">\n",
       "      <th></th>\n",
       "      <th>FECHA_ACTUALIZACION</th>\n",
       "      <th>ID_REGISTRO</th>\n",
       "      <th>ORIGEN</th>\n",
       "      <th>SECTOR</th>\n",
       "      <th>ENTIDAD_UM</th>\n",
       "      <th>SEXO</th>\n",
       "      <th>ENTIDAD_NAC</th>\n",
       "      <th>ENTIDAD_RES</th>\n",
       "      <th>MUNICIPIO_RES</th>\n",
       "      <th>TIPO_PACIENTE</th>\n",
       "      <th>...</th>\n",
       "      <th>CARDIOVASCULAR</th>\n",
       "      <th>OBESIDAD</th>\n",
       "      <th>RENAL_CRONICA</th>\n",
       "      <th>TABAQUISMO</th>\n",
       "      <th>OTRO_CASO</th>\n",
       "      <th>RESULTADO</th>\n",
       "      <th>MIGRANTE</th>\n",
       "      <th>PAIS_NACIONALIDAD</th>\n",
       "      <th>PAIS_ORIGEN</th>\n",
       "      <th>UCI</th>\n",
       "    </tr>\n",
       "  </thead>\n",
       "  <tbody>\n",
       "    <tr>\n",
       "      <th>0</th>\n",
       "      <td>2020-07-21</td>\n",
       "      <td>10a31d</td>\n",
       "      <td>2</td>\n",
       "      <td>3</td>\n",
       "      <td>2</td>\n",
       "      <td>1</td>\n",
       "      <td>2</td>\n",
       "      <td>2</td>\n",
       "      <td>5</td>\n",
       "      <td>1</td>\n",
       "      <td>...</td>\n",
       "      <td>2</td>\n",
       "      <td>2</td>\n",
       "      <td>2</td>\n",
       "      <td>2</td>\n",
       "      <td>1</td>\n",
       "      <td>1</td>\n",
       "      <td>99</td>\n",
       "      <td>Mexico</td>\n",
       "      <td>99</td>\n",
       "      <td>97</td>\n",
       "    </tr>\n",
       "    <tr>\n",
       "      <th>1</th>\n",
       "      <td>2020-07-21</td>\n",
       "      <td>0d2fbe</td>\n",
       "      <td>2</td>\n",
       "      <td>3</td>\n",
       "      <td>25</td>\n",
       "      <td>2</td>\n",
       "      <td>25</td>\n",
       "      <td>25</td>\n",
       "      <td>6</td>\n",
       "      <td>1</td>\n",
       "      <td>...</td>\n",
       "      <td>2</td>\n",
       "      <td>2</td>\n",
       "      <td>2</td>\n",
       "      <td>1</td>\n",
       "      <td>1</td>\n",
       "      <td>1</td>\n",
       "      <td>99</td>\n",
       "      <td>Mexico</td>\n",
       "      <td>99</td>\n",
       "      <td>97</td>\n",
       "    </tr>\n",
       "    <tr>\n",
       "      <th>2</th>\n",
       "      <td>2020-07-21</td>\n",
       "      <td>116171</td>\n",
       "      <td>2</td>\n",
       "      <td>4</td>\n",
       "      <td>15</td>\n",
       "      <td>2</td>\n",
       "      <td>15</td>\n",
       "      <td>15</td>\n",
       "      <td>60</td>\n",
       "      <td>1</td>\n",
       "      <td>...</td>\n",
       "      <td>2</td>\n",
       "      <td>2</td>\n",
       "      <td>2</td>\n",
       "      <td>2</td>\n",
       "      <td>99</td>\n",
       "      <td>1</td>\n",
       "      <td>99</td>\n",
       "      <td>Mexico</td>\n",
       "      <td>99</td>\n",
       "      <td>97</td>\n",
       "    </tr>\n",
       "    <tr>\n",
       "      <th>3</th>\n",
       "      <td>2020-07-21</td>\n",
       "      <td>06d45b</td>\n",
       "      <td>2</td>\n",
       "      <td>4</td>\n",
       "      <td>15</td>\n",
       "      <td>2</td>\n",
       "      <td>15</td>\n",
       "      <td>15</td>\n",
       "      <td>121</td>\n",
       "      <td>2</td>\n",
       "      <td>...</td>\n",
       "      <td>2</td>\n",
       "      <td>1</td>\n",
       "      <td>2</td>\n",
       "      <td>2</td>\n",
       "      <td>99</td>\n",
       "      <td>1</td>\n",
       "      <td>99</td>\n",
       "      <td>Mexico</td>\n",
       "      <td>99</td>\n",
       "      <td>2</td>\n",
       "    </tr>\n",
       "    <tr>\n",
       "      <th>4</th>\n",
       "      <td>2020-07-21</td>\n",
       "      <td>05cbd0</td>\n",
       "      <td>2</td>\n",
       "      <td>4</td>\n",
       "      <td>31</td>\n",
       "      <td>1</td>\n",
       "      <td>30</td>\n",
       "      <td>31</td>\n",
       "      <td>101</td>\n",
       "      <td>1</td>\n",
       "      <td>...</td>\n",
       "      <td>2</td>\n",
       "      <td>2</td>\n",
       "      <td>2</td>\n",
       "      <td>2</td>\n",
       "      <td>99</td>\n",
       "      <td>1</td>\n",
       "      <td>99</td>\n",
       "      <td>Mexico</td>\n",
       "      <td>99</td>\n",
       "      <td>97</td>\n",
       "    </tr>\n",
       "  </tbody>\n",
       "</table>\n",
       "<p>5 rows × 35 columns</p>\n",
       "</div>"
      ],
      "text/plain": [
       "  FECHA_ACTUALIZACION ID_REGISTRO  ORIGEN  SECTOR  ENTIDAD_UM  SEXO  \\\n",
       "0          2020-07-21      10a31d       2       3           2     1   \n",
       "1          2020-07-21      0d2fbe       2       3          25     2   \n",
       "2          2020-07-21      116171       2       4          15     2   \n",
       "3          2020-07-21      06d45b       2       4          15     2   \n",
       "4          2020-07-21      05cbd0       2       4          31     1   \n",
       "\n",
       "   ENTIDAD_NAC  ENTIDAD_RES  MUNICIPIO_RES  TIPO_PACIENTE  ... CARDIOVASCULAR  \\\n",
       "0            2            2              5              1  ...              2   \n",
       "1           25           25              6              1  ...              2   \n",
       "2           15           15             60              1  ...              2   \n",
       "3           15           15            121              2  ...              2   \n",
       "4           30           31            101              1  ...              2   \n",
       "\n",
       "  OBESIDAD RENAL_CRONICA  TABAQUISMO  OTRO_CASO  RESULTADO  MIGRANTE  \\\n",
       "0        2             2           2          1          1        99   \n",
       "1        2             2           1          1          1        99   \n",
       "2        2             2           2         99          1        99   \n",
       "3        1             2           2         99          1        99   \n",
       "4        2             2           2         99          1        99   \n",
       "\n",
       "   PAIS_NACIONALIDAD  PAIS_ORIGEN  UCI  \n",
       "0             Mexico           99   97  \n",
       "1             Mexico           99   97  \n",
       "2             Mexico           99   97  \n",
       "3             Mexico           99    2  \n",
       "4             Mexico           99   97  \n",
       "\n",
       "[5 rows x 35 columns]"
      ]
     },
     "execution_count": 15,
     "metadata": {},
     "output_type": "execute_result"
    }
   ],
   "source": [
    "#checking the first 5 rows.\n",
    "df_general.head()"
   ]
  },
  {
   "cell_type": "markdown",
   "metadata": {},
   "source": [
    "## Data Cleaning"
   ]
  },
  {
   "cell_type": "code",
   "execution_count": 16,
   "metadata": {},
   "outputs": [],
   "source": [
    "#The column for federal entities' abbreviation is transformed to match the column \"ENTIDAD_UM\" in the COVID-19 data frame .  \n",
    "geo_states['FIPS_ADMIN'] = geo_states['FIPS_ADMIN'].str.replace(\"MX0\",\"\")\n",
    "geo_states['FIPS_ADMIN'] = geo_states['FIPS_ADMIN'].str.replace(\"MX\",\"\")"
   ]
  },
  {
   "cell_type": "code",
   "execution_count": 17,
   "metadata": {},
   "outputs": [],
   "source": [
    "df_general['ENTIDAD'] = df_general['ENTIDAD_UM'].map(df_states.set_index('CLAVE_ENTIDAD')['ENTIDAD_FEDERATIVA'])\n",
    "df_general['SECTOR'] = df_general['SECTOR'].map(df_sector.set_index('CLAVE')['DESCRIPCIÓN'])"
   ]
  },
  {
   "cell_type": "code",
   "execution_count": 18,
   "metadata": {},
   "outputs": [],
   "source": [
    "df_general['TIPO_PACIENTE'] = df_general['TIPO_PACIENTE'].map(df_paciente.set_index('CLAVE')['DESCRIPCIÓN'])\n",
    "df_general['SEXO']= df_general['SEXO'].replace([1, 2], ['Women', 'Men'])"
   ]
  },
  {
   "cell_type": "code",
   "execution_count": 19,
   "metadata": {},
   "outputs": [],
   "source": [
    "# It replace values for several columns in a dataframe.\n",
    "def replace_values(df, columns, \n",
    "                   old_values, new_values):\n",
    "    for col in columns:\n",
    "        try:\n",
    "            df[col]= df[col].replace(to_replace=old_values, value=new_values)\n",
    "        except:\n",
    "            print(col)\n",
    "    return df "
   ]
  },
  {
   "cell_type": "code",
   "execution_count": 20,
   "metadata": {},
   "outputs": [],
   "source": [
    "# It cast values for several columns in a dataframe.\n",
    "def cast_values(df, columns, cast_value):\n",
    "    for col in columns:\n",
    "        try:\n",
    "            df[col]= df[col].astype(cast_value)\n",
    "        except:\n",
    "            print(col)\n",
    "    return df "
   ]
  },
  {
   "cell_type": "code",
   "execution_count": 21,
   "metadata": {},
   "outputs": [
    {
     "data": {
      "text/plain": [
       "['INTUBADO',\n",
       " 'NEUMONIA',\n",
       " 'EMBARAZO',\n",
       " 'HABLA_LENGUA_INDIG',\n",
       " 'DIABETES',\n",
       " 'EPOC',\n",
       " 'ASMA',\n",
       " 'INMUSUPR',\n",
       " 'HIPERTENSION',\n",
       " 'OTRAS_COM',\n",
       " 'CARDIOVASCULAR',\n",
       " 'OBESIDAD',\n",
       " 'RENAL_CRONICA',\n",
       " 'TABAQUISMO',\n",
       " 'OTRO_CASO',\n",
       " 'MIGRANTE',\n",
       " 'UCI',\n",
       " 'RESULTADO']"
      ]
     },
     "execution_count": 21,
     "metadata": {},
     "output_type": "execute_result"
    }
   ],
   "source": [
    "#Selecting the columns that have a format of SI and NO.\n",
    "df_descriptors['FORMATO O FUENTE'] = df_descriptors['FORMATO O FUENTE'].str.strip()\n",
    "df_si_no_answer = df_descriptors[df_descriptors['FORMATO O FUENTE']== 'CATÁLOGO: SI_ NO']\n",
    "column_list_binary = list(df_si_no_answer['NOMBRE DE VARIABLE'].values)\n",
    "column_list_binary.append('RESULTADO')\n",
    "column_list_binary"
   ]
  },
  {
   "cell_type": "code",
   "execution_count": 22,
   "metadata": {},
   "outputs": [
    {
     "name": "stdout",
     "output_type": "stream",
     "text": [
      "OTRAS_COM\n"
     ]
    }
   ],
   "source": [
    "# The values for the columns with SI NO format are replace with 1 and 0.\n",
    "df_general =replace_values(df_general, column_list_binary, [1,2], [1,0])"
   ]
  },
  {
   "cell_type": "code",
   "execution_count": 23,
   "metadata": {},
   "outputs": [],
   "source": [
    "# The values 97,98 and 99 mean \"not specified\". Therefore, these values are replaced to Nan values. \n",
    "#values = [97,98,99]\n",
    "#df_general = replace_values(df_general, df_general.columns, values, np.nan)\n",
    "#df_float  = df_general.select_dtypes(include=[\"float64\"])\n",
    "#df_general = float_int(df_general, df_float.columns ,\"Int64\")"
   ]
  },
  {
   "cell_type": "code",
   "execution_count": 24,
   "metadata": {},
   "outputs": [],
   "source": [
    "#df_general.head()"
   ]
  },
  {
   "cell_type": "markdown",
   "metadata": {},
   "source": [
    "The columns below are dropped. "
   ]
  },
  {
   "cell_type": "code",
   "execution_count": 25,
   "metadata": {},
   "outputs": [],
   "source": [
    "df_general = df_general.drop(['ENTIDAD_NAC', 'ENTIDAD_RES', 'NACIONALIDAD', \n",
    "                              'PAIS_NACIONALIDAD', 'HABLA_LENGUA_INDIG'], axis=1)"
   ]
  },
  {
   "cell_type": "markdown",
   "metadata": {},
   "source": [
    "Added columns to know number of days between:\n",
    "* a patient had symptoms to his/her death.\n",
    "* a patient has symptoms to be hospitalized.\n",
    "* a patient was hospitalized symptoms to his/her death.\n",
    "    \n"
   ]
  },
  {
   "cell_type": "code",
   "execution_count": 26,
   "metadata": {},
   "outputs": [],
   "source": [
    "#the columns were formatted to datetime.\n",
    "df_general['FECHA_INGRESO'] = pd.to_datetime(df_general['FECHA_INGRESO'].str.strip(), format='%Y/%m/%d')\n",
    "df_general['FECHA_SINTOMAS'] = pd.to_datetime(df_general['FECHA_SINTOMAS'].str.strip(), format='%Y/%m/%d')\n",
    "df_general['FECHA_DEF'] = pd.to_datetime(df_general['FECHA_DEF'].str.strip(), format='%Y/%m/%d', errors='coerce')"
   ]
  },
  {
   "cell_type": "code",
   "execution_count": 27,
   "metadata": {},
   "outputs": [],
   "source": [
    "def cal_time_days(df, column_a, column_b, new_name):\n",
    "    df[new_name] = df[column_a] -  df_general[column_b]\n",
    "    df[new_name] = df[new_name].dt.days.astype(\"Int32\")\n",
    "    return df"
   ]
  },
  {
   "cell_type": "code",
   "execution_count": 28,
   "metadata": {},
   "outputs": [],
   "source": [
    "#df_general['DIAS_SINT_DEF'] = df_general['FECHA_DEF'] -  df_general['FECHA_SINTOMAS']\n",
    "#df_general['DIAS_SINT_ING'] = df_general['FECHA_INGRESO'] -  df_general['FECHA_SINTOMAS']\n",
    "#df_general['DIAS_ING_DEF'] = df_general['FECHA_DEF'] -  df_general['FECHA_INGRESO']\n",
    "#df_general['DIAS_SINT_DEF'] = df_general[\"DIAS_SINT_DEF\"].dt.days"
   ]
  },
  {
   "cell_type": "code",
   "execution_count": 29,
   "metadata": {},
   "outputs": [
    {
     "data": {
      "text/html": [
       "<div>\n",
       "<style scoped>\n",
       "    .dataframe tbody tr th:only-of-type {\n",
       "        vertical-align: middle;\n",
       "    }\n",
       "\n",
       "    .dataframe tbody tr th {\n",
       "        vertical-align: top;\n",
       "    }\n",
       "\n",
       "    .dataframe thead th {\n",
       "        text-align: right;\n",
       "    }\n",
       "</style>\n",
       "<table border=\"1\" class=\"dataframe\">\n",
       "  <thead>\n",
       "    <tr style=\"text-align: right;\">\n",
       "      <th></th>\n",
       "      <th>FECHA_ACTUALIZACION</th>\n",
       "      <th>ID_REGISTRO</th>\n",
       "      <th>ORIGEN</th>\n",
       "      <th>SECTOR</th>\n",
       "      <th>ENTIDAD_UM</th>\n",
       "      <th>SEXO</th>\n",
       "      <th>MUNICIPIO_RES</th>\n",
       "      <th>TIPO_PACIENTE</th>\n",
       "      <th>FECHA_INGRESO</th>\n",
       "      <th>FECHA_SINTOMAS</th>\n",
       "      <th>...</th>\n",
       "      <th>TABAQUISMO</th>\n",
       "      <th>OTRO_CASO</th>\n",
       "      <th>RESULTADO</th>\n",
       "      <th>MIGRANTE</th>\n",
       "      <th>PAIS_ORIGEN</th>\n",
       "      <th>UCI</th>\n",
       "      <th>ENTIDAD</th>\n",
       "      <th>DIAS_SINT_DEF</th>\n",
       "      <th>DIAS_ING_DEF</th>\n",
       "      <th>DIAS_SINT_ING</th>\n",
       "    </tr>\n",
       "  </thead>\n",
       "  <tbody>\n",
       "    <tr>\n",
       "      <th>0</th>\n",
       "      <td>2020-07-21</td>\n",
       "      <td>10a31d</td>\n",
       "      <td>2</td>\n",
       "      <td>ESTATAL</td>\n",
       "      <td>2</td>\n",
       "      <td>Women</td>\n",
       "      <td>5</td>\n",
       "      <td>AMBULATORIO</td>\n",
       "      <td>2020-04-28</td>\n",
       "      <td>2020-04-24</td>\n",
       "      <td>...</td>\n",
       "      <td>0</td>\n",
       "      <td>1</td>\n",
       "      <td>1</td>\n",
       "      <td>99</td>\n",
       "      <td>99</td>\n",
       "      <td>97</td>\n",
       "      <td>BAJA CALIFORNIA</td>\n",
       "      <td>&lt;NA&gt;</td>\n",
       "      <td>&lt;NA&gt;</td>\n",
       "      <td>4</td>\n",
       "    </tr>\n",
       "    <tr>\n",
       "      <th>1</th>\n",
       "      <td>2020-07-21</td>\n",
       "      <td>0d2fbe</td>\n",
       "      <td>2</td>\n",
       "      <td>ESTATAL</td>\n",
       "      <td>25</td>\n",
       "      <td>Men</td>\n",
       "      <td>6</td>\n",
       "      <td>AMBULATORIO</td>\n",
       "      <td>2020-05-25</td>\n",
       "      <td>2020-05-18</td>\n",
       "      <td>...</td>\n",
       "      <td>1</td>\n",
       "      <td>1</td>\n",
       "      <td>1</td>\n",
       "      <td>99</td>\n",
       "      <td>99</td>\n",
       "      <td>97</td>\n",
       "      <td>SINALOA</td>\n",
       "      <td>&lt;NA&gt;</td>\n",
       "      <td>&lt;NA&gt;</td>\n",
       "      <td>7</td>\n",
       "    </tr>\n",
       "    <tr>\n",
       "      <th>2</th>\n",
       "      <td>2020-07-21</td>\n",
       "      <td>116171</td>\n",
       "      <td>2</td>\n",
       "      <td>IMSS</td>\n",
       "      <td>15</td>\n",
       "      <td>Men</td>\n",
       "      <td>60</td>\n",
       "      <td>AMBULATORIO</td>\n",
       "      <td>2020-04-15</td>\n",
       "      <td>2020-04-05</td>\n",
       "      <td>...</td>\n",
       "      <td>0</td>\n",
       "      <td>99</td>\n",
       "      <td>1</td>\n",
       "      <td>99</td>\n",
       "      <td>99</td>\n",
       "      <td>97</td>\n",
       "      <td>MÉXICO</td>\n",
       "      <td>&lt;NA&gt;</td>\n",
       "      <td>&lt;NA&gt;</td>\n",
       "      <td>10</td>\n",
       "    </tr>\n",
       "    <tr>\n",
       "      <th>3</th>\n",
       "      <td>2020-07-21</td>\n",
       "      <td>06d45b</td>\n",
       "      <td>2</td>\n",
       "      <td>IMSS</td>\n",
       "      <td>15</td>\n",
       "      <td>Men</td>\n",
       "      <td>121</td>\n",
       "      <td>HOSPITALIZADO</td>\n",
       "      <td>2020-04-23</td>\n",
       "      <td>2020-04-22</td>\n",
       "      <td>...</td>\n",
       "      <td>0</td>\n",
       "      <td>99</td>\n",
       "      <td>1</td>\n",
       "      <td>99</td>\n",
       "      <td>99</td>\n",
       "      <td>0</td>\n",
       "      <td>MÉXICO</td>\n",
       "      <td>7</td>\n",
       "      <td>6</td>\n",
       "      <td>1</td>\n",
       "    </tr>\n",
       "    <tr>\n",
       "      <th>4</th>\n",
       "      <td>2020-07-21</td>\n",
       "      <td>05cbd0</td>\n",
       "      <td>2</td>\n",
       "      <td>IMSS</td>\n",
       "      <td>31</td>\n",
       "      <td>Women</td>\n",
       "      <td>101</td>\n",
       "      <td>AMBULATORIO</td>\n",
       "      <td>2020-05-04</td>\n",
       "      <td>2020-04-30</td>\n",
       "      <td>...</td>\n",
       "      <td>0</td>\n",
       "      <td>99</td>\n",
       "      <td>1</td>\n",
       "      <td>99</td>\n",
       "      <td>99</td>\n",
       "      <td>97</td>\n",
       "      <td>YUCATÁN</td>\n",
       "      <td>&lt;NA&gt;</td>\n",
       "      <td>&lt;NA&gt;</td>\n",
       "      <td>4</td>\n",
       "    </tr>\n",
       "    <tr>\n",
       "      <th>...</th>\n",
       "      <td>...</td>\n",
       "      <td>...</td>\n",
       "      <td>...</td>\n",
       "      <td>...</td>\n",
       "      <td>...</td>\n",
       "      <td>...</td>\n",
       "      <td>...</td>\n",
       "      <td>...</td>\n",
       "      <td>...</td>\n",
       "      <td>...</td>\n",
       "      <td>...</td>\n",
       "      <td>...</td>\n",
       "      <td>...</td>\n",
       "      <td>...</td>\n",
       "      <td>...</td>\n",
       "      <td>...</td>\n",
       "      <td>...</td>\n",
       "      <td>...</td>\n",
       "      <td>...</td>\n",
       "      <td>...</td>\n",
       "      <td>...</td>\n",
       "    </tr>\n",
       "    <tr>\n",
       "      <th>845267</th>\n",
       "      <td>2020-07-21</td>\n",
       "      <td>09d62a</td>\n",
       "      <td>2</td>\n",
       "      <td>SSA</td>\n",
       "      <td>9</td>\n",
       "      <td>Women</td>\n",
       "      <td>9</td>\n",
       "      <td>AMBULATORIO</td>\n",
       "      <td>2020-07-20</td>\n",
       "      <td>2020-07-17</td>\n",
       "      <td>...</td>\n",
       "      <td>0</td>\n",
       "      <td>1</td>\n",
       "      <td>3</td>\n",
       "      <td>99</td>\n",
       "      <td>99</td>\n",
       "      <td>97</td>\n",
       "      <td>CIUDAD DE MÉXICO</td>\n",
       "      <td>&lt;NA&gt;</td>\n",
       "      <td>&lt;NA&gt;</td>\n",
       "      <td>3</td>\n",
       "    </tr>\n",
       "    <tr>\n",
       "      <th>845268</th>\n",
       "      <td>2020-07-21</td>\n",
       "      <td>15da6e</td>\n",
       "      <td>2</td>\n",
       "      <td>SSA</td>\n",
       "      <td>11</td>\n",
       "      <td>Men</td>\n",
       "      <td>20</td>\n",
       "      <td>AMBULATORIO</td>\n",
       "      <td>2020-07-20</td>\n",
       "      <td>2020-07-20</td>\n",
       "      <td>...</td>\n",
       "      <td>0</td>\n",
       "      <td>1</td>\n",
       "      <td>3</td>\n",
       "      <td>99</td>\n",
       "      <td>99</td>\n",
       "      <td>97</td>\n",
       "      <td>GUANAJUATO</td>\n",
       "      <td>&lt;NA&gt;</td>\n",
       "      <td>&lt;NA&gt;</td>\n",
       "      <td>0</td>\n",
       "    </tr>\n",
       "    <tr>\n",
       "      <th>845269</th>\n",
       "      <td>2020-07-21</td>\n",
       "      <td>1a8200</td>\n",
       "      <td>2</td>\n",
       "      <td>SSA</td>\n",
       "      <td>8</td>\n",
       "      <td>Women</td>\n",
       "      <td>19</td>\n",
       "      <td>AMBULATORIO</td>\n",
       "      <td>2020-07-19</td>\n",
       "      <td>2020-07-11</td>\n",
       "      <td>...</td>\n",
       "      <td>0</td>\n",
       "      <td>0</td>\n",
       "      <td>3</td>\n",
       "      <td>99</td>\n",
       "      <td>99</td>\n",
       "      <td>97</td>\n",
       "      <td>CHIHUAHUA</td>\n",
       "      <td>&lt;NA&gt;</td>\n",
       "      <td>&lt;NA&gt;</td>\n",
       "      <td>8</td>\n",
       "    </tr>\n",
       "    <tr>\n",
       "      <th>845270</th>\n",
       "      <td>2020-07-21</td>\n",
       "      <td>052e2b</td>\n",
       "      <td>1</td>\n",
       "      <td>SSA</td>\n",
       "      <td>21</td>\n",
       "      <td>Women</td>\n",
       "      <td>53</td>\n",
       "      <td>AMBULATORIO</td>\n",
       "      <td>2020-07-20</td>\n",
       "      <td>2020-07-12</td>\n",
       "      <td>...</td>\n",
       "      <td>0</td>\n",
       "      <td>0</td>\n",
       "      <td>3</td>\n",
       "      <td>99</td>\n",
       "      <td>99</td>\n",
       "      <td>97</td>\n",
       "      <td>PUEBLA</td>\n",
       "      <td>&lt;NA&gt;</td>\n",
       "      <td>&lt;NA&gt;</td>\n",
       "      <td>8</td>\n",
       "    </tr>\n",
       "    <tr>\n",
       "      <th>845271</th>\n",
       "      <td>2020-07-21</td>\n",
       "      <td>0aaa95</td>\n",
       "      <td>2</td>\n",
       "      <td>SSA</td>\n",
       "      <td>11</td>\n",
       "      <td>Men</td>\n",
       "      <td>88</td>\n",
       "      <td>AMBULATORIO</td>\n",
       "      <td>2020-07-20</td>\n",
       "      <td>2020-07-17</td>\n",
       "      <td>...</td>\n",
       "      <td>0</td>\n",
       "      <td>0</td>\n",
       "      <td>3</td>\n",
       "      <td>99</td>\n",
       "      <td>99</td>\n",
       "      <td>97</td>\n",
       "      <td>GUANAJUATO</td>\n",
       "      <td>&lt;NA&gt;</td>\n",
       "      <td>&lt;NA&gt;</td>\n",
       "      <td>3</td>\n",
       "    </tr>\n",
       "  </tbody>\n",
       "</table>\n",
       "<p>845272 rows × 34 columns</p>\n",
       "</div>"
      ],
      "text/plain": [
       "       FECHA_ACTUALIZACION ID_REGISTRO  ORIGEN   SECTOR  ENTIDAD_UM   SEXO  \\\n",
       "0               2020-07-21      10a31d       2  ESTATAL           2  Women   \n",
       "1               2020-07-21      0d2fbe       2  ESTATAL          25    Men   \n",
       "2               2020-07-21      116171       2     IMSS          15    Men   \n",
       "3               2020-07-21      06d45b       2     IMSS          15    Men   \n",
       "4               2020-07-21      05cbd0       2     IMSS          31  Women   \n",
       "...                    ...         ...     ...      ...         ...    ...   \n",
       "845267          2020-07-21      09d62a       2      SSA           9  Women   \n",
       "845268          2020-07-21      15da6e       2      SSA          11    Men   \n",
       "845269          2020-07-21      1a8200       2      SSA           8  Women   \n",
       "845270          2020-07-21      052e2b       1      SSA          21  Women   \n",
       "845271          2020-07-21      0aaa95       2      SSA          11    Men   \n",
       "\n",
       "        MUNICIPIO_RES  TIPO_PACIENTE FECHA_INGRESO FECHA_SINTOMAS  ...  \\\n",
       "0                   5    AMBULATORIO    2020-04-28     2020-04-24  ...   \n",
       "1                   6    AMBULATORIO    2020-05-25     2020-05-18  ...   \n",
       "2                  60    AMBULATORIO    2020-04-15     2020-04-05  ...   \n",
       "3                 121  HOSPITALIZADO    2020-04-23     2020-04-22  ...   \n",
       "4                 101    AMBULATORIO    2020-05-04     2020-04-30  ...   \n",
       "...               ...            ...           ...            ...  ...   \n",
       "845267              9    AMBULATORIO    2020-07-20     2020-07-17  ...   \n",
       "845268             20    AMBULATORIO    2020-07-20     2020-07-20  ...   \n",
       "845269             19    AMBULATORIO    2020-07-19     2020-07-11  ...   \n",
       "845270             53    AMBULATORIO    2020-07-20     2020-07-12  ...   \n",
       "845271             88    AMBULATORIO    2020-07-20     2020-07-17  ...   \n",
       "\n",
       "       TABAQUISMO  OTRO_CASO  RESULTADO  MIGRANTE  PAIS_ORIGEN  UCI  \\\n",
       "0               0          1          1        99           99   97   \n",
       "1               1          1          1        99           99   97   \n",
       "2               0         99          1        99           99   97   \n",
       "3               0         99          1        99           99    0   \n",
       "4               0         99          1        99           99   97   \n",
       "...           ...        ...        ...       ...          ...  ...   \n",
       "845267          0          1          3        99           99   97   \n",
       "845268          0          1          3        99           99   97   \n",
       "845269          0          0          3        99           99   97   \n",
       "845270          0          0          3        99           99   97   \n",
       "845271          0          0          3        99           99   97   \n",
       "\n",
       "                 ENTIDAD  DIAS_SINT_DEF  DIAS_ING_DEF  DIAS_SINT_ING  \n",
       "0        BAJA CALIFORNIA           <NA>          <NA>              4  \n",
       "1                SINALOA           <NA>          <NA>              7  \n",
       "2                 MÉXICO           <NA>          <NA>             10  \n",
       "3                 MÉXICO              7             6              1  \n",
       "4                YUCATÁN           <NA>          <NA>              4  \n",
       "...                  ...            ...           ...            ...  \n",
       "845267  CIUDAD DE MÉXICO           <NA>          <NA>              3  \n",
       "845268        GUANAJUATO           <NA>          <NA>              0  \n",
       "845269         CHIHUAHUA           <NA>          <NA>              8  \n",
       "845270            PUEBLA           <NA>          <NA>              8  \n",
       "845271        GUANAJUATO           <NA>          <NA>              3  \n",
       "\n",
       "[845272 rows x 34 columns]"
      ]
     },
     "execution_count": 29,
     "metadata": {},
     "output_type": "execute_result"
    }
   ],
   "source": [
    "cal_time_days(df_general,'FECHA_DEF', 'FECHA_SINTOMAS', 'DIAS_SINT_DEF')\n",
    "cal_time_days(df_general,'FECHA_DEF', 'FECHA_INGRESO', 'DIAS_ING_DEF')\n",
    "cal_time_days(df_general,'FECHA_INGRESO', 'FECHA_SINTOMAS', 'DIAS_SINT_ING')"
   ]
  },
  {
   "cell_type": "markdown",
   "metadata": {},
   "source": [
    "The column specifies whether the patient is alive or dead."
   ]
  },
  {
   "cell_type": "code",
   "execution_count": 30,
   "metadata": {},
   "outputs": [],
   "source": [
    "df_general['DEF'] = df_general.FECHA_DEF.isna().apply(lambda x: 1 if x==0 else 0)"
   ]
  },
  {
   "cell_type": "markdown",
   "metadata": {},
   "source": [
    "## Exploratory Data Analysis "
   ]
  },
  {
   "cell_type": "markdown",
   "metadata": {},
   "source": [
    "### States with more COVID-19 tests\n",
    "\n"
   ]
  },
  {
   "cell_type": "markdown",
   "metadata": {},
   "source": [
    "The figure below shows percentage of COVID-19 tests done in Mexico broken by state. Mexico city is the federal entity with the most number of tests. In second place is Mexico (the state). "
   ]
  },
  {
   "cell_type": "code",
   "execution_count": 31,
   "metadata": {},
   "outputs": [
    {
     "data": {
      "image/png": "[encoded data removed]",
      "text/plain": [
       "<Figure size 1008x576 with 1 Axes>"
      ]
     },
     "metadata": {},
     "output_type": "display_data"
    }
   ],
   "source": [
    "states_vals = df_general.ENTIDAD.value_counts()\n",
    "sns.set(palette=\"Blues_d\")\n",
    "fig = plt.figure(figsize=(14,8))\n",
    "(states_vals/df_general.shape[0]).plot(kind=\"bar\");\n",
    "plt.title(\"% of Tests by State in Mexico\", fontsize = 18);\n",
    "plt.show()"
   ]
  },
  {
   "cell_type": "markdown",
   "metadata": {},
   "source": [
    "The data frame is filtered, to focus on only on patient with COVID-19."
   ]
  },
  {
   "cell_type": "code",
   "execution_count": 32,
   "metadata": {},
   "outputs": [],
   "source": [
    "df_states_by_result = df_general.copy()\n",
    "indexPendintResult = df_states_by_result[ df_states_by_result['RESULTADO'] == 3 ].index\n",
    "df_states_by_result.drop(indexPendintResult , inplace=True)\n",
    "df_states_by_result['RESULTADO'].replace(to_replace=[1,0], value=['POSITIVO','NO POSITIVO'],inplace=True)"
   ]
  },
  {
   "cell_type": "code",
   "execution_count": 33,
   "metadata": {},
   "outputs": [
    {
     "data": {
      "text/html": [
       "<div>\n",
       "<style scoped>\n",
       "    .dataframe tbody tr th:only-of-type {\n",
       "        vertical-align: middle;\n",
       "    }\n",
       "\n",
       "    .dataframe tbody tr th {\n",
       "        vertical-align: top;\n",
       "    }\n",
       "\n",
       "    .dataframe thead th {\n",
       "        text-align: right;\n",
       "    }\n",
       "</style>\n",
       "<table border=\"1\" class=\"dataframe\">\n",
       "  <thead>\n",
       "    <tr style=\"text-align: right;\">\n",
       "      <th>RESULTADO</th>\n",
       "      <th>NO POSITIVO</th>\n",
       "      <th>POSITIVO</th>\n",
       "    </tr>\n",
       "    <tr>\n",
       "      <th>FECHA_ACTUALIZACION</th>\n",
       "      <th></th>\n",
       "      <th></th>\n",
       "    </tr>\n",
       "  </thead>\n",
       "  <tbody>\n",
       "    <tr>\n",
       "      <th>2020-07-21</th>\n",
       "      <td>406151</td>\n",
       "      <td>356255</td>\n",
       "    </tr>\n",
       "  </tbody>\n",
       "</table>\n",
       "</div>"
      ],
      "text/plain": [
       "RESULTADO            NO POSITIVO  POSITIVO\n",
       "FECHA_ACTUALIZACION                       \n",
       "2020-07-21                406151    356255"
      ]
     },
     "execution_count": 33,
     "metadata": {},
     "output_type": "execute_result"
    }
   ],
   "source": [
    "pd.crosstab(df_states_by_result.FECHA_ACTUALIZACION, df_states_by_result.RESULTADO)"
   ]
  },
  {
   "cell_type": "code",
   "execution_count": 34,
   "metadata": {},
   "outputs": [],
   "source": [
    "df_state_results = pd.crosstab(df_states_by_result.ENTIDAD, df_states_by_result.RESULTADO, normalize=True)"
   ]
  },
  {
   "cell_type": "code",
   "execution_count": 35,
   "metadata": {},
   "outputs": [],
   "source": [
    "df_state_results = df_state_results.reset_index()"
   ]
  },
  {
   "cell_type": "code",
   "execution_count": 36,
   "metadata": {},
   "outputs": [
    {
     "data": {
      "image/png": "[encoded data removed]",
      "text/plain": [
       "<Figure size 1080x576 with 1 Axes>"
      ]
     },
     "metadata": {},
     "output_type": "display_data"
    }
   ],
   "source": [
    "width = 0.40 \n",
    "x = np.arange(len(df_state_results.ENTIDAD))\n",
    "fig, ax = plt.subplots(figsize=(15, 8))\n",
    "\n",
    "rects1 = ax.bar(x - width/2, df_state_results.POSITIVO, width, label='Positive', color = '#ff0000')\n",
    "rects2 = ax.bar(x + width/2, df_state_results['NO POSITIVO'], width, label='Non-positive', color = '#0c005a')\n",
    "\n",
    "ax.set_ylabel('% of test')\n",
    "ax.set_title('Test Results per State', fontsize = 20)\n",
    "ax.set_xticks(x + width/2 )\n",
    "ax.set_xticklabels(df_state_results.ENTIDAD, rotation=90, ha='right')\n",
    "ax.legend()\n",
    "fig.tight_layout()\n",
    "\n",
    "plt.show()\n"
   ]
  },
  {
   "cell_type": "markdown",
   "metadata": {},
   "source": [
    "The graph shows the results of the tests done by federal entity. The results in the graphs have been normalized."
   ]
  },
  {
   "cell_type": "markdown",
   "metadata": {},
   "source": [
    "###  Summary of Confimed/Deaths"
   ]
  },
  {
   "cell_type": "code",
   "execution_count": 38,
   "metadata": {},
   "outputs": [],
   "source": [
    "df_positive = df_general[ df_general['RESULTADO'] == 1]\n",
    "df_positive = df_positive[['FECHA_ACTUALIZACION','FECHA_INGRESO', 'FECHA_DEF',\n",
    "                           'RESULTADO', 'DEF', 'DIAS_SINT_ING', 'SEXO', 'EDAD']]"
   ]
  },
  {
   "cell_type": "code",
   "execution_count": 39,
   "metadata": {},
   "outputs": [],
   "source": [
    "df_positive.rename({'EDAD': \"Age\"}, axis=1, inplace=True)"
   ]
  },
  {
   "cell_type": "code",
   "execution_count": 40,
   "metadata": {},
   "outputs": [
    {
     "data": {
      "text/plain": [
       "40400"
      ]
     },
     "execution_count": 40,
     "metadata": {},
     "output_type": "execute_result"
    }
   ],
   "source": [
    "df_positive.DEF.sum()"
   ]
  },
  {
   "cell_type": "code",
   "execution_count": 41,
   "metadata": {},
   "outputs": [],
   "source": [
    "def bar_char (x_val, y_val, color_num, title_chart, y_axis_name, x_axis_name, figsize=(18,8)):\n",
    "    fig, ax = plt.subplots(figsize= figsize)\n",
    "    x_pos = np.arange(len(x_val))\n",
    "\n",
    "    plt.bar(x_pos, y_val, color=color_num)\n",
    "    plt.ylabel(y_axis_name)\n",
    "    plt.xlabel(x_axis_name)\n",
    "    plt.title(title_chart, fontsize = 20)\n",
    "\n",
    "    plt.show()\n",
    "    "
   ]
  },
  {
   "cell_type": "code",
   "execution_count": 42,
   "metadata": {},
   "outputs": [],
   "source": [
    "df_death = pd.crosstab(df_positive['FECHA_DEF'], df_positive.DEF)\n",
    "df_death = df_death.reset_index()\n",
    "df_death.rename({1: 'DEF'}, axis=1, inplace=True)"
   ]
  },
  {
   "cell_type": "code",
   "execution_count": 43,
   "metadata": {},
   "outputs": [
    {
     "data": {
      "image/png": "[encoded data removed]",
      "text/plain": [
       "<Figure size 1296x576 with 1 Axes>"
      ]
     },
     "metadata": {},
     "output_type": "display_data"
    }
   ],
   "source": [
    "bar_char(df_death.FECHA_DEF, \n",
    "         df_death.DEF, \n",
    "         '#4a3f35', \n",
    "         'New reported deaths by day in Mexico', \n",
    "         '# of days',\n",
    "         'Number of cases per day')"
   ]
  },
  {
   "cell_type": "markdown",
   "metadata": {},
   "source": [
    "Average number of days between first symptoms to death"
   ]
  },
  {
   "cell_type": "code",
   "execution_count": 44,
   "metadata": {},
   "outputs": [],
   "source": [
    "df_dying  = df_general[(df_general['RESULTADO'] == 1 ) & (df_general['DEF'] == 1 )]\n",
    "df_dying = df_dying[['FECHA_DEF','DIAS_SINT_DEF']]\n",
    "df_dying.set_index('FECHA_DEF', inplace=True)\n",
    "df_dying.index = pd.to_datetime(df_dying.index)"
   ]
  },
  {
   "cell_type": "code",
   "execution_count": 45,
   "metadata": {},
   "outputs": [
    {
     "data": {
      "image/png": "[encoded data removed]",
      "text/plain": [
       "<Figure size 864x576 with 1 Axes>"
      ]
     },
     "metadata": {},
     "output_type": "display_data"
    }
   ],
   "source": [
    "ax = df_dying.hist(column='DIAS_SINT_DEF', bins=30, grid=True, figsize=(12,8), color='#4a3f35',  rwidth=0.9)\n",
    "\n",
    "for x in ax[0]:\n",
    "    x.set_title(\"Histogram of Days from Syntoms to death\", fontsize = 18)\n",
    "    x.set_xlabel(\"Duration (Days)\", labelpad=20, weight='bold', size=12)\n",
    "    x.set_ylabel(\"Patients\", labelpad=20, weight='bold', size=12)\n",
    "\n"
   ]
  },
  {
   "cell_type": "code",
   "execution_count": 46,
   "metadata": {},
   "outputs": [
    {
     "data": {
      "text/plain": [
       "DIAS_SINT_DEF    1122\n",
       "dtype: int64"
      ]
     },
     "execution_count": 46,
     "metadata": {},
     "output_type": "execute_result"
    }
   ],
   "source": [
    "outlier = df_dying[df_dying['DIAS_SINT_DEF']>30].count()\n",
    "outlier"
   ]
  },
  {
   "cell_type": "markdown",
   "metadata": {},
   "source": [
    "The avergare number of days for a patient with COVID19 to dies is almost 12. There are cases that takes up to more than 3 months.\n"
   ]
  },
  {
   "cell_type": "code",
   "execution_count": 60,
   "metadata": {},
   "outputs": [
    {
     "data": {
      "text/html": [
       "<div>\n",
       "<style scoped>\n",
       "    .dataframe tbody tr th:only-of-type {\n",
       "        vertical-align: middle;\n",
       "    }\n",
       "\n",
       "    .dataframe tbody tr th {\n",
       "        vertical-align: top;\n",
       "    }\n",
       "\n",
       "    .dataframe thead th {\n",
       "        text-align: right;\n",
       "    }\n",
       "</style>\n",
       "<table border=\"1\" class=\"dataframe\">\n",
       "  <thead>\n",
       "    <tr style=\"text-align: right;\">\n",
       "      <th></th>\n",
       "      <th>DIAS_SINT_DEF</th>\n",
       "    </tr>\n",
       "  </thead>\n",
       "  <tbody>\n",
       "    <tr>\n",
       "      <th>count</th>\n",
       "      <td>40400.000000</td>\n",
       "    </tr>\n",
       "    <tr>\n",
       "      <th>mean</th>\n",
       "      <td>11.923738</td>\n",
       "    </tr>\n",
       "    <tr>\n",
       "      <th>std</th>\n",
       "      <td>7.791492</td>\n",
       "    </tr>\n",
       "    <tr>\n",
       "      <th>min</th>\n",
       "      <td>0.000000</td>\n",
       "    </tr>\n",
       "    <tr>\n",
       "      <th>25%</th>\n",
       "      <td>7.000000</td>\n",
       "    </tr>\n",
       "    <tr>\n",
       "      <th>50%</th>\n",
       "      <td>10.000000</td>\n",
       "    </tr>\n",
       "    <tr>\n",
       "      <th>75%</th>\n",
       "      <td>16.000000</td>\n",
       "    </tr>\n",
       "    <tr>\n",
       "      <th>max</th>\n",
       "      <td>93.000000</td>\n",
       "    </tr>\n",
       "  </tbody>\n",
       "</table>\n",
       "</div>"
      ],
      "text/plain": [
       "       DIAS_SINT_DEF\n",
       "count   40400.000000\n",
       "mean       11.923738\n",
       "std         7.791492\n",
       "min         0.000000\n",
       "25%         7.000000\n",
       "50%        10.000000\n",
       "75%        16.000000\n",
       "max        93.000000"
      ]
     },
     "execution_count": 60,
     "metadata": {},
     "output_type": "execute_result"
    }
   ],
   "source": [
    "df_dying.describe()"
   ]
  },
  {
   "cell_type": "code",
   "execution_count": 49,
   "metadata": {},
   "outputs": [
    {
     "data": {
      "image/png": "[encoded data removed]",
      "text/plain": [
       "<Figure size 1080x576 with 2 Axes>"
      ]
     },
     "metadata": {},
     "output_type": "display_data"
    }
   ],
   "source": [
    "fig, axs =plt.subplots(1,2, figsize=(15, 8))\n",
    "meanlineprops = dict(linestyle='--', linewidth=2.5, color='purple')\n",
    "medianprops = dict(linestyle='-.', linewidth=2.5, color='#0f4c75')\n",
    "\n",
    "axs[0].boxplot(df_dying['DIAS_SINT_DEF'],notch=0, sym='+', vert=1, whis=1.5,  patch_artist=True, \n",
    "               medianprops=medianprops, boxprops=dict(facecolor='#bbe1fa'),showmeans=True )\n",
    "axs[0].set_title('With outliers')\n",
    "axs[0].set_ylabel('# of days')\n",
    "axs[0].set_xlabel('Patients')\n",
    "\n",
    "axs[1].boxplot(df_dying['DIAS_SINT_DEF'], 0, '', patch_artist=True, \n",
    "               boxprops=dict(facecolor='#bbe1fa'), showmeans=True, medianprops=medianprops)\n",
    "axs[1].set_title(\"without outliers\")\n",
    "axs[1].set_ylabel('# of days')\n",
    "axs[1].set_xlabel('Patients')\n",
    "\n",
    "fig.suptitle('Days between symptoms and death', fontsize=20)\n",
    "fig.subplots_adjust(left=0.09, right=0.9, bottom=0.05, top=0.8,\n",
    "                    hspace=0.4, wspace=0.3)"
   ]
  },
  {
   "cell_type": "markdown",
   "metadata": {},
   "source": [
    "The boxplots show the distribution between number of days from first symptoms to death. The first boxplot includes outlier. In the second boxplot the outliers are removed."
   ]
  },
  {
   "cell_type": "markdown",
   "metadata": {},
   "source": [
    "### Confirmed Positive COVID-19 cases"
   ]
  },
  {
   "cell_type": "code",
   "execution_count": 50,
   "metadata": {},
   "outputs": [],
   "source": [
    "gender_vals = list(df_positive.SEXO.value_counts(normalize=True))"
   ]
  },
  {
   "cell_type": "code",
   "execution_count": 51,
   "metadata": {},
   "outputs": [
    {
     "data": {
      "text/plain": [
       "[0.535821251631556, 0.46417874836844397]"
      ]
     },
     "execution_count": 51,
     "metadata": {},
     "output_type": "execute_result"
    }
   ],
   "source": [
    "gender_vals"
   ]
  },
  {
   "cell_type": "code",
   "execution_count": 52,
   "metadata": {},
   "outputs": [
    {
     "data": {
      "image/png": "[encoded data removed]",
      "text/plain": [
       "<Figure size 720x576 with 1 Axes>"
      ]
     },
     "metadata": {},
     "output_type": "display_data"
    }
   ],
   "source": [
    "gender = ['Men', 'Women']\n",
    "colors = ['#02383c', '#ed5107']\n",
    "\n",
    "x = np.arange(len(gender))\n",
    "fig, ax = plt.subplots(figsize=(10, 8))\n",
    "width = 0.9\n",
    "\n",
    "rects1 = ax.bar(x, gender_vals, width, color = colors)\n",
    "\n",
    "ax.set_ylabel('Percentage of population with COVID')\n",
    "ax.set_title('% of COVID by gender', fontsize = 20)\n",
    "ax.set_xticks(x)\n",
    "ax.set_xticklabels(gender)\n",
    "fig.tight_layout()\n",
    "\n",
    "plt.show()"
   ]
  },
  {
   "cell_type": "markdown",
   "metadata": {},
   "source": [
    "The graphs show the percentage of the population that has been infected with COVID-19. "
   ]
  },
  {
   "cell_type": "code",
   "execution_count": 53,
   "metadata": {},
   "outputs": [
    {
     "data": {
      "image/png": "[encoded data removed]",
      "text/plain": [
       "<Figure size 864x576 with 1 Axes>"
      ]
     },
     "metadata": {},
     "output_type": "display_data"
    }
   ],
   "source": [
    "ax = df_positive.hist(column='Age', bins=30, grid=True, figsize=(12,8), color='#848ccf',  rwidth=0.9)\n",
    "\n",
    "for x in ax[0]:\n",
    "    x.set_title(\"Histogram age\", fontsize = 20)\n",
    "    x.set_xlabel(\"Age\", labelpad=20, weight='bold', size=12)\n",
    "    x.set_ylabel(\"Patients\", labelpad=20, weight='bold', size=12)"
   ]
  },
  {
   "cell_type": "code",
   "execution_count": 54,
   "metadata": {},
   "outputs": [],
   "source": [
    "df_age_women = df_positive[df_positive.SEXO == 'Women']\n",
    "df_age_men = df_positive[df_positive.SEXO == 'Men']\n",
    "age_women = list(df_age_women['Age'])\n",
    "age_men = list(df_age_men['Age'])"
   ]
  },
  {
   "cell_type": "code",
   "execution_count": 55,
   "metadata": {},
   "outputs": [
    {
     "data": {
      "image/png": "[encoded data removed]",
      "text/plain": [
       "<Figure size 1080x576 with 1 Axes>"
      ]
     },
     "metadata": {},
     "output_type": "display_data"
    }
   ],
   "source": [
    "fig, ax =plt.subplots(figsize=(15, 8))\n",
    "\n",
    "bins = 20 \n",
    "ax.hist(age_women, bins, alpha=0.6, label='Women', color='#ed5107' )\n",
    "ax.hist(age_men, bins, alpha=0.4, label='Men', color='#02383c')\n",
    "ax.legend()\n",
    "ax.set_title('Histogram Age by gender', fontsize = 20)\n",
    "ax.set_xlabel(\"Age\", labelpad=20, weight='bold', size=12)\n",
    "ax.set_ylabel(\"# People\", labelpad=20, weight='bold', size=12)\n",
    "fig.tight_layout()\n",
    "\n",
    "plt.show()"
   ]
  },
  {
   "cell_type": "markdown",
   "metadata": {},
   "source": [
    "Histogram of age broken by gender. "
   ]
  },
  {
   "cell_type": "code",
   "execution_count": 63,
   "metadata": {},
   "outputs": [
    {
     "name": "stdout",
     "output_type": "stream",
     "text": [
      "Average number of days between first symptoms to hospitalization : 4.240041543276585\n"
     ]
    }
   ],
   "source": [
    "df_hosp = df_positive[['FECHA_INGRESO', 'DIAS_SINT_ING']]\n",
    "print ('Average number of days between first symptoms to hospitalization : ' + str(df_hosp.DIAS_SINT_ING.mean()))"
   ]
  },
  {
   "cell_type": "code",
   "execution_count": 57,
   "metadata": {},
   "outputs": [],
   "source": [
    "df_positive_results = pd.crosstab(df_positive['FECHA_INGRESO'], df_positive.RESULTADO)\n",
    "df_positive_results = df_positive_results.reset_index()\n",
    "df_positive_results.rename({1: 'POSITIVO'}, axis=1, inplace=True)"
   ]
  },
  {
   "cell_type": "code",
   "execution_count": 58,
   "metadata": {},
   "outputs": [
    {
     "data": {
      "text/plain": [
       "356255"
      ]
     },
     "execution_count": 58,
     "metadata": {},
     "output_type": "execute_result"
    }
   ],
   "source": [
    "df_positive_results.POSITIVO.sum()"
   ]
  },
  {
   "cell_type": "code",
   "execution_count": 59,
   "metadata": {},
   "outputs": [
    {
     "data": {
      "image/png": "[encoded data removed]",
      "text/plain": [
       "<Figure size 1296x576 with 1 Axes>"
      ]
     },
     "metadata": {},
     "output_type": "display_data"
    }
   ],
   "source": [
    "bar_char(df_positive_results.FECHA_INGRESO, \n",
    "         df_positive_results.POSITIVO,\n",
    "         '#c83b3b', \n",
    "         'New reported cases by day in Mexico',\n",
    "         '# of days',\n",
    "         'Number of cases per day' )"
   ]
  },
  {
   "cell_type": "markdown",
   "metadata": {},
   "source": [
    "The graph show a sharp decline every 6th and 7th day."
   ]
  },
  {
   "cell_type": "code",
   "execution_count": null,
   "metadata": {},
   "outputs": [],
   "source": []
  }
 ],
 "metadata": {
  "kernelspec": {
   "display_name": "myenv",
   "language": "python",
   "name": "myenv"
  },
  "language_info": {
   "codemirror_mode": {
    "name": "ipython",
    "version": 3
   },
   "file_extension": ".py",
   "mimetype": "text/x-python",
   "name": "python",
   "nbconvert_exporter": "python",
   "pygments_lexer": "ipython3",
   "version": "3.7.7"
  }
 },
 "nbformat": 4,
 "nbformat_minor": 4
}
